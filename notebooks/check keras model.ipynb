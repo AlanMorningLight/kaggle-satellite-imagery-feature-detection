{
 "cells": [
  {
   "cell_type": "code",
   "execution_count": 1,
   "metadata": {
    "collapsed": false
   },
   "outputs": [
    {
     "name": "stderr",
     "output_type": "stream",
     "text": [
      "Using Theano backend.\n",
      "ERROR (theano.sandbox.cuda): ERROR: Not using GPU. Initialisation of device 0 failed:\n",
      "initCnmem: cnmemInit call failed! Reason=CNMEM_STATUS_OUT_OF_MEMORY. numdev=1\n",
      "\n",
      "ERROR (theano.sandbox.cuda): ERROR: Not using GPU. Initialisation of device gpu failed:\n",
      "initCnmem: cnmemInit call failed! Reason=CNMEM_STATUS_OUT_OF_MEMORY. numdev=1\n",
      "\n"
     ]
    },
    {
     "ename": "RuntimeError",
     "evalue": "('initCnmem: cnmemInit call failed! Reason=CNMEM_STATUS_OUT_OF_MEMORY. numdev=1\\n', 'You asked to force this device and it failed. No fallback to the cpu or other gpu device.')",
     "output_type": "error",
     "traceback": [
      "\u001b[0;31m---------------------------------------------------------------------------\u001b[0m",
      "\u001b[0;31mRuntimeError\u001b[0m                              Traceback (most recent call last)",
      "\u001b[0;32m<ipython-input-1-67577b545dfb>\u001b[0m in \u001b[0;36m<module>\u001b[0;34m()\u001b[0m\n\u001b[1;32m     16\u001b[0m \u001b[0;34m\u001b[0m\u001b[0m\n\u001b[1;32m     17\u001b[0m \u001b[0;31m# CNN\u001b[0m\u001b[0;34m\u001b[0m\u001b[0;34m\u001b[0m\u001b[0m\n\u001b[0;32m---> 18\u001b[0;31m \u001b[0;32mfrom\u001b[0m \u001b[0mkeras\u001b[0m\u001b[0;34m.\u001b[0m\u001b[0mmodels\u001b[0m \u001b[0;32mimport\u001b[0m \u001b[0mModel\u001b[0m\u001b[0;34m,\u001b[0m \u001b[0mload_model\u001b[0m\u001b[0;34m\u001b[0m\u001b[0m\n\u001b[0m\u001b[1;32m     19\u001b[0m \u001b[0;32mimport\u001b[0m \u001b[0mos\u001b[0m\u001b[0;34m\u001b[0m\u001b[0m\n\u001b[1;32m     20\u001b[0m \u001b[0;32mfrom\u001b[0m \u001b[0mbaseline2\u001b[0m \u001b[0;32mimport\u001b[0m \u001b[0mgenerate_mask_for_image_and_class\u001b[0m\u001b[0;34m,\u001b[0m \u001b[0mget_unet\u001b[0m\u001b[0;34m\u001b[0m\u001b[0m\n",
      "\u001b[0;32m/usr/local/lib/python2.7/dist-packages/keras/__init__.py\u001b[0m in \u001b[0;36m<module>\u001b[0;34m()\u001b[0m\n\u001b[1;32m      1\u001b[0m \u001b[0;32mfrom\u001b[0m \u001b[0m__future__\u001b[0m \u001b[0;32mimport\u001b[0m \u001b[0mabsolute_import\u001b[0m\u001b[0;34m\u001b[0m\u001b[0m\n\u001b[0;32m----> 2\u001b[0;31m \u001b[0;32mfrom\u001b[0m \u001b[0;34m.\u001b[0m \u001b[0;32mimport\u001b[0m \u001b[0mbackend\u001b[0m\u001b[0;34m\u001b[0m\u001b[0m\n\u001b[0m\u001b[1;32m      3\u001b[0m \u001b[0;32mfrom\u001b[0m \u001b[0;34m.\u001b[0m \u001b[0;32mimport\u001b[0m \u001b[0mdatasets\u001b[0m\u001b[0;34m\u001b[0m\u001b[0m\n\u001b[1;32m      4\u001b[0m \u001b[0;32mfrom\u001b[0m \u001b[0;34m.\u001b[0m \u001b[0;32mimport\u001b[0m \u001b[0mengine\u001b[0m\u001b[0;34m\u001b[0m\u001b[0m\n\u001b[1;32m      5\u001b[0m \u001b[0;32mfrom\u001b[0m \u001b[0;34m.\u001b[0m \u001b[0;32mimport\u001b[0m \u001b[0mlayers\u001b[0m\u001b[0;34m\u001b[0m\u001b[0m\n",
      "\u001b[0;32m/usr/local/lib/python2.7/dist-packages/keras/backend/__init__.py\u001b[0m in \u001b[0;36m<module>\u001b[0;34m()\u001b[0m\n\u001b[1;32m     64\u001b[0m \u001b[0;32mif\u001b[0m \u001b[0m_BACKEND\u001b[0m \u001b[0;34m==\u001b[0m \u001b[0;34m'theano'\u001b[0m\u001b[0;34m:\u001b[0m\u001b[0;34m\u001b[0m\u001b[0m\n\u001b[1;32m     65\u001b[0m     \u001b[0msys\u001b[0m\u001b[0;34m.\u001b[0m\u001b[0mstderr\u001b[0m\u001b[0;34m.\u001b[0m\u001b[0mwrite\u001b[0m\u001b[0;34m(\u001b[0m\u001b[0;34m'Using Theano backend.\\n'\u001b[0m\u001b[0;34m)\u001b[0m\u001b[0;34m\u001b[0m\u001b[0m\n\u001b[0;32m---> 66\u001b[0;31m     \u001b[0;32mfrom\u001b[0m \u001b[0;34m.\u001b[0m\u001b[0mtheano_backend\u001b[0m \u001b[0;32mimport\u001b[0m \u001b[0;34m*\u001b[0m\u001b[0;34m\u001b[0m\u001b[0m\n\u001b[0m\u001b[1;32m     67\u001b[0m \u001b[0;32melif\u001b[0m \u001b[0m_BACKEND\u001b[0m \u001b[0;34m==\u001b[0m \u001b[0;34m'tensorflow'\u001b[0m\u001b[0;34m:\u001b[0m\u001b[0;34m\u001b[0m\u001b[0m\n\u001b[1;32m     68\u001b[0m     \u001b[0msys\u001b[0m\u001b[0;34m.\u001b[0m\u001b[0mstderr\u001b[0m\u001b[0;34m.\u001b[0m\u001b[0mwrite\u001b[0m\u001b[0;34m(\u001b[0m\u001b[0;34m'Using TensorFlow backend.\\n'\u001b[0m\u001b[0;34m)\u001b[0m\u001b[0;34m\u001b[0m\u001b[0m\n",
      "\u001b[0;32m/usr/local/lib/python2.7/dist-packages/keras/backend/theano_backend.py\u001b[0m in \u001b[0;36m<module>\u001b[0;34m()\u001b[0m\n\u001b[0;32m----> 1\u001b[0;31m \u001b[0;32mimport\u001b[0m \u001b[0mtheano\u001b[0m\u001b[0;34m\u001b[0m\u001b[0m\n\u001b[0m\u001b[1;32m      2\u001b[0m \u001b[0;32mfrom\u001b[0m \u001b[0mtheano\u001b[0m \u001b[0;32mimport\u001b[0m \u001b[0mtensor\u001b[0m \u001b[0;32mas\u001b[0m \u001b[0mT\u001b[0m\u001b[0;34m\u001b[0m\u001b[0m\n\u001b[1;32m      3\u001b[0m \u001b[0;32mfrom\u001b[0m \u001b[0mtheano\u001b[0m\u001b[0;34m.\u001b[0m\u001b[0msandbox\u001b[0m\u001b[0;34m.\u001b[0m\u001b[0mrng_mrg\u001b[0m \u001b[0;32mimport\u001b[0m \u001b[0mMRG_RandomStreams\u001b[0m \u001b[0;32mas\u001b[0m \u001b[0mRandomStreams\u001b[0m\u001b[0;34m\u001b[0m\u001b[0m\n\u001b[1;32m      4\u001b[0m \u001b[0;32mfrom\u001b[0m \u001b[0mtheano\u001b[0m\u001b[0;34m.\u001b[0m\u001b[0mtensor\u001b[0m\u001b[0;34m.\u001b[0m\u001b[0msignal\u001b[0m \u001b[0;32mimport\u001b[0m \u001b[0mpool\u001b[0m\u001b[0;34m\u001b[0m\u001b[0m\n\u001b[1;32m      5\u001b[0m \u001b[0;32mfrom\u001b[0m \u001b[0mtheano\u001b[0m\u001b[0;34m.\u001b[0m\u001b[0mtensor\u001b[0m\u001b[0;34m.\u001b[0m\u001b[0mnnet\u001b[0m \u001b[0;32mimport\u001b[0m \u001b[0mconv3d2d\u001b[0m\u001b[0;34m\u001b[0m\u001b[0m\n",
      "\u001b[0;32m/usr/local/lib/python2.7/dist-packages/theano/__init__.pyc\u001b[0m in \u001b[0;36m<module>\u001b[0;34m()\u001b[0m\n\u001b[1;32m    109\u001b[0m \u001b[0;34m\u001b[0m\u001b[0m\n\u001b[1;32m    110\u001b[0m         \u001b[0;32mif\u001b[0m \u001b[0mconfig\u001b[0m\u001b[0;34m.\u001b[0m\u001b[0menable_initial_driver_test\u001b[0m\u001b[0;34m:\u001b[0m\u001b[0;34m\u001b[0m\u001b[0m\n\u001b[0;32m--> 111\u001b[0;31m             \u001b[0mtheano\u001b[0m\u001b[0;34m.\u001b[0m\u001b[0msandbox\u001b[0m\u001b[0;34m.\u001b[0m\u001b[0mcuda\u001b[0m\u001b[0;34m.\u001b[0m\u001b[0mtests\u001b[0m\u001b[0;34m.\u001b[0m\u001b[0mtest_driver\u001b[0m\u001b[0;34m.\u001b[0m\u001b[0mtest_nvidia_driver1\u001b[0m\u001b[0;34m(\u001b[0m\u001b[0;34m)\u001b[0m\u001b[0;34m\u001b[0m\u001b[0m\n\u001b[0m\u001b[1;32m    112\u001b[0m \u001b[0;34m\u001b[0m\u001b[0m\n\u001b[1;32m    113\u001b[0m if (config.device.startswith('cuda') or\n",
      "\u001b[0;32m/usr/local/lib/python2.7/dist-packages/theano/sandbox/cuda/tests/test_driver.pyc\u001b[0m in \u001b[0;36mtest_nvidia_driver1\u001b[0;34m()\u001b[0m\n\u001b[1;32m     27\u001b[0m     \"\"\"\n\u001b[1;32m     28\u001b[0m     \u001b[0ma\u001b[0m \u001b[0;34m=\u001b[0m \u001b[0mnumpy\u001b[0m\u001b[0;34m.\u001b[0m\u001b[0mrandom\u001b[0m\u001b[0;34m.\u001b[0m\u001b[0mrand\u001b[0m\u001b[0;34m(\u001b[0m\u001b[0;36m10000\u001b[0m\u001b[0;34m)\u001b[0m\u001b[0;34m.\u001b[0m\u001b[0mastype\u001b[0m\u001b[0;34m(\u001b[0m\u001b[0;34m\"float32\"\u001b[0m\u001b[0;34m)\u001b[0m\u001b[0;34m\u001b[0m\u001b[0m\n\u001b[0;32m---> 29\u001b[0;31m     \u001b[0mA\u001b[0m \u001b[0;34m=\u001b[0m \u001b[0mcuda\u001b[0m\u001b[0;34m.\u001b[0m\u001b[0mshared_constructor\u001b[0m\u001b[0;34m(\u001b[0m\u001b[0ma\u001b[0m\u001b[0;34m)\u001b[0m\u001b[0;34m\u001b[0m\u001b[0m\n\u001b[0m\u001b[1;32m     30\u001b[0m     f = theano.function(inputs=[], outputs=A.sum(), mode=mode_with_gpu,\n\u001b[1;32m     31\u001b[0m                         profile=False)\n",
      "\u001b[0;32m/usr/local/lib/python2.7/dist-packages/theano/sandbox/cuda/var.pyc\u001b[0m in \u001b[0;36mfloat32_shared_constructor\u001b[0;34m(value, name, strict, allow_downcast, borrow, broadcastable, target)\u001b[0m\n\u001b[1;32m    216\u001b[0m                                 \u001b[0mdefault_to_move_computation_to_gpu\u001b[0m\u001b[0;34m=\u001b[0m\u001b[0mFalse\u001b[0m\u001b[0;34m,\u001b[0m\u001b[0;34m\u001b[0m\u001b[0m\n\u001b[1;32m    217\u001b[0m                                 \u001b[0mmove_shared_float32_to_gpu\u001b[0m\u001b[0;34m=\u001b[0m\u001b[0mFalse\u001b[0m\u001b[0;34m,\u001b[0m\u001b[0;34m\u001b[0m\u001b[0m\n\u001b[0;32m--> 218\u001b[0;31m                                 enable_cuda=False)\n\u001b[0m\u001b[1;32m    219\u001b[0m \u001b[0;34m\u001b[0m\u001b[0m\n\u001b[1;32m    220\u001b[0m     \u001b[0;31m# if value isn't a float32 ndarray, or a CudaNdarray then raise\u001b[0m\u001b[0;34m\u001b[0m\u001b[0;34m\u001b[0m\u001b[0m\n",
      "\u001b[0;32m/usr/local/lib/python2.7/dist-packages/theano/sandbox/cuda/__init__.pyc\u001b[0m in \u001b[0;36muse\u001b[0;34m(device, force, default_to_move_computation_to_gpu, move_shared_float32_to_gpu, enable_cuda, test_driver)\u001b[0m\n\u001b[1;32m    555\u001b[0m                 \u001b[0muse\u001b[0m\u001b[0;34m.\u001b[0m\u001b[0mdevice_number\u001b[0m \u001b[0;34m=\u001b[0m \u001b[0mactive_device_number\u001b[0m\u001b[0;34m(\u001b[0m\u001b[0;34m)\u001b[0m\u001b[0;34m\u001b[0m\u001b[0m\n\u001b[1;32m    556\u001b[0m                 \u001b[0;31m# This is needed to initialize the cublas handle.\u001b[0m\u001b[0;34m\u001b[0m\u001b[0;34m\u001b[0m\u001b[0m\n\u001b[0;32m--> 557\u001b[0;31m                 \u001b[0mgpu_init\u001b[0m\u001b[0;34m(\u001b[0m\u001b[0muse\u001b[0m\u001b[0;34m.\u001b[0m\u001b[0mdevice_number\u001b[0m\u001b[0;34m,\u001b[0m \u001b[0mconfig\u001b[0m\u001b[0;34m.\u001b[0m\u001b[0mlib\u001b[0m\u001b[0;34m.\u001b[0m\u001b[0mcnmem\u001b[0m\u001b[0;34m)\u001b[0m\u001b[0;34m\u001b[0m\u001b[0m\n\u001b[0m\u001b[1;32m    558\u001b[0m \u001b[0;34m\u001b[0m\u001b[0m\n\u001b[1;32m    559\u001b[0m             \u001b[0;32mif\u001b[0m \u001b[0mtest_driver\u001b[0m\u001b[0;34m:\u001b[0m\u001b[0;34m\u001b[0m\u001b[0m\n",
      "\u001b[0;31mRuntimeError\u001b[0m: ('initCnmem: cnmemInit call failed! Reason=CNMEM_STATUS_OUT_OF_MEMORY. numdev=1\\n', 'You asked to force this device and it failed. No fallback to the cpu or other gpu device.')"
     ]
    }
   ],
   "source": [
    "# general\n",
    "import matplotlib.pyplot as plt\n",
    "import numpy as np\n",
    "from collections import defaultdict\n",
    "import cv2\n",
    "import pandas as pd\n",
    "import tifffile as tiff\n",
    "import random\n",
    "from sklearn.metrics import jaccard_similarity_score\n",
    "\n",
    "# work with polygons\n",
    "from shapely.geometry import MultiPolygon, Polygon\n",
    "import shapely.wkt\n",
    "import shapely.affinity\n",
    "from shapely.wkt import loads as wkt_loads\n",
    "\n",
    "# CNN\n",
    "from keras.models import Model, load_model\n",
    "import os\n",
    "from baseline2 import generate_mask_for_image_and_class, get_unet\n",
    "\n",
    "from keras import backend as K"
   ]
  },
  {
   "cell_type": "code",
   "execution_count": null,
   "metadata": {
    "collapsed": true
   },
   "outputs": [],
   "source": [
    "inDir = '/home/PycharmProjects/dstl-fcn/noize_kernel'\n",
    "DF = pd.read_csv('../input/train_wkt_v4.csv')\n",
    "GS = pd.read_csv('../input/grid_sizes.csv', names=['ImageId', 'Xmax', 'Ymin'], skiprows=1)\n",
    "SB = pd.read_csv('../input/submission_empty.csv')\n",
    "\n",
    "\n",
    "N_Cls = 10\n",
    "ISZ = 160\n",
    "smooth = 1e-12\n",
    "trs = [0.4, 0.1, 0.4, 0.3, 0.3, 0.5, 0.3, 0.6, 0.1, 0.1]"
   ]
  },
  {
   "cell_type": "code",
   "execution_count": null,
   "metadata": {
    "collapsed": true
   },
   "outputs": [],
   "source": [
    "def stretch_n(bands, lower_percent=0, higher_percent=100):\n",
    "    out = np.zeros_like(bands, dtype=np.float32)\n",
    "    n = bands.shape[2]\n",
    "    for i in range(n):\n",
    "        a = 0  # np.min(band)\n",
    "        b = 1  # np.max(band)\n",
    "        c = np.percentile(bands[:, :, i], lower_percent)\n",
    "        d = np.percentile(bands[:, :, i], higher_percent)\n",
    "        t = a + (bands[:, :, i] - c) * (b - a) / (d - c)\n",
    "        t[t < a] = a\n",
    "        t[t > b] = b\n",
    "        out[:, :, i] = t\n",
    "\n",
    "    return out.astype(np.float32)\n",
    "\n",
    "def M(image_id):\n",
    "    # __author__ = amaia\n",
    "    # https://www.kaggle.com/aamaia/dstl-satellite-imagery-feature-detection/rgb-using-m-bands-example\n",
    "    img = tiff.imread('../input/sixteen_band/{}_M.tif'.format(image_id))\n",
    "    img = np.rollaxis(img, 0, 3)\n",
    "    return img\n",
    "\n",
    "def predict_id(id, model, trs):\n",
    "    img = M(id)\n",
    "    x = stretch_n(img)\n",
    "\n",
    "    cnv = np.zeros((960, 960, 8)).astype(np.float32)\n",
    "    prd = np.zeros((N_Cls, 960, 960)).astype(np.float32)\n",
    "    cnv[:img.shape[0], :img.shape[1], :] = x\n",
    "\n",
    "    for i in range(0, 6):\n",
    "        line = []\n",
    "        for j in range(0, 6):\n",
    "            line.append(cnv[i * ISZ:(i + 1) * ISZ, j * ISZ:(j + 1) * ISZ])\n",
    "\n",
    "        x = 2 * np.transpose(line, (0, 3, 1, 2)) - 1\n",
    "        tmp = model.predict(x, batch_size=4)\n",
    "        for j in range(tmp.shape[0]):\n",
    "            prd[:, i * ISZ:(i + 1) * ISZ, j * ISZ:(j + 1) * ISZ] = tmp[j]\n",
    "\n",
    "    trs = [0.4, 0.1, 0.4, 0.3, 0.3, 0.5, 0.3, 0.6, 0.1, 0.1]\n",
    "    trs = [0.5, 0.5, 0.5, 0.5, 0.5, 0.5, 0.5, 0.5, 0.5, 0.5]\n",
    "    for i in range(N_Cls):\n",
    "        prd[i] = prd[i] > trs[i]\n",
    "\n",
    "    return prd[:, :img.shape[0], :img.shape[1]]\n",
    "\n",
    "def calc_jac(pred, label):\n",
    "    itersec = np.multiply(pred, label).sum()\n",
    "    summ = (pred+label).sum()\n",
    "    jac = itersec/(summ-itersec)\n",
    "    return jac\n",
    "\n",
    "\n",
    "def jaccard_coef(y_true, y_pred):\n",
    "    # __author__ = Vladimir Iglovikov\n",
    "    intersection = K.sum(y_true * y_pred, axis=[0, -1, -2])\n",
    "    sum_ = K.sum(y_true + y_pred, axis=[0, -1, -2])\n",
    "\n",
    "    jac = (intersection + smooth) / (sum_ - intersection + smooth)\n",
    "\n",
    "    return K.mean(jac)\n",
    "\n",
    "\n",
    "def jaccard_coef_int(y_true, y_pred):\n",
    "    # __author__ = Vladimir Iglovikov\n",
    "    y_pred_pos = K.round(K.clip(y_pred, 0, 1))\n",
    "\n",
    "    intersection = K.sum(y_true * y_pred_pos, axis=[0, -1, -2])\n",
    "    sum_ = K.sum(y_true + y_pred_pos, axis=[0, -1, -2])\n",
    "    jac = (intersection + smooth) / (sum_ - intersection + smooth)\n",
    "    return K.mean(jac)"
   ]
  },
  {
   "cell_type": "code",
   "execution_count": null,
   "metadata": {
    "collapsed": false
   },
   "outputs": [],
   "source": [
    "model = load_model('weights/unet_42quality.hdf5', \n",
    "                   custom_objects={'jaccard_coef': jaccard_coef,\n",
    "                                   'jaccard_coef_int': jaccard_coef_int})"
   ]
  },
  {
   "cell_type": "code",
   "execution_count": null,
   "metadata": {
    "collapsed": false
   },
   "outputs": [],
   "source": [
    "s = 835\n",
    "\n",
    "for IM_ID in os.listdir('M/train/'):\n",
    "    msk = predict_id(IM_ID[:-4], model, trs)\n",
    "    img = M(IM_ID[:-4])\n",
    "    \n",
    "    mask = generate_mask_for_image_and_class((img.shape[0], img.shape[1]), IM_ID[:-4], 3)[:s, :s]\n",
    "    \n",
    "    fig, axes = plt.subplots(ncols=3, figsize=(50, 50))\n",
    "    ax = axes.ravel()\n",
    "    \n",
    "    ax[0].imshow(img[:, :, 5])\n",
    "    ax[0].set_title('rgb') \n",
    "    ax[0].axis('off')\n",
    "    \n",
    "    ax[1].imshow(mask)\n",
    "    ax[1].set_title('Road')    \n",
    "    ax[1].axis('off')\n",
    "\n",
    "    ax[2].imshow(msk[2], cmap=plt.get_cmap('gray'))\n",
    "    ax[2].set_title('Misc. Manmade structures') \n",
    "    ax[2].axis('off')\n",
    "    \n",
    "    plt.tight_layout()\n",
    "    plt.show()\n"
   ]
  },
  {
   "cell_type": "code",
   "execution_count": null,
   "metadata": {
    "collapsed": true
   },
   "outputs": [],
   "source": []
  },
  {
   "cell_type": "code",
   "execution_count": null,
   "metadata": {
    "collapsed": false
   },
   "outputs": [],
   "source": [
    "for IM_ID in os.listdir('M/test/'):\n",
    "    msk = predict_id(IM_ID[:-4], model, trs)\n",
    "    img = M(IM_ID[:-4])\n",
    "    mask = generate_mask_for_image_and_class((img.shape[0], img.shape[1]), IM_ID[:-4], 1)[:s, :s]\n",
    "    \n",
    "    fig, axes = plt.subplots(ncols=2, figsize=(50, 50))\n",
    "    ax = axes.ravel()\n",
    "    \n",
    "    ax[0].imshow(img[:, :, 5])\n",
    "    ax[0].set_title('rgb') \n",
    "    ax[0].axis('off')\n",
    "\n",
    "    ax[1].imshow(msk[0], cmap=plt.get_cmap('gray'))\n",
    "    ax[1].set_title('Misc. Manmade structures') \n",
    "    ax[1].axis('off')\n",
    "    \n",
    "    plt.tight_layout()\n",
    "    plt.show()"
   ]
  },
  {
   "cell_type": "code",
   "execution_count": null,
   "metadata": {
    "collapsed": false
   },
   "outputs": [],
   "source": [
    "\n",
    "\n",
    "\n",
    "\n",
    "plt.figure()\n",
    "ax1 = plt.subplot(131)\n",
    "ax1.set_title('image ID:6120_2_3')\n",
    "ax1.imshow(img[:, :, 5])\n",
    "ax2 = plt.subplot(132)\n",
    "ax2.set_title('predict bldg pixels')\n",
    "ax2.imshow(msk[0], cmap=plt.get_cmap('gray'))\n",
    "# ax3 = plt.subplot(133)\n",
    "# ax3.set_title('predict bldg polygones')\n",
    "# ax3.imshow(mask_for_polygons(mask_to_polygons(msk[0], epsilon=1), img.shape[:2]), cmap=plt.get_cmap('gray'))\n",
    "plt.show()"
   ]
  },
  {
   "cell_type": "code",
   "execution_count": null,
   "metadata": {
    "collapsed": false
   },
   "outputs": [],
   "source": [
    "# Buildings - large building, residential, non-residential, fuel storage facility, fortified building\n",
    "# Misc. Manmade structures \n",
    "# Road \n",
    "# Track - poor/dirt/cart track, footpath/trail\n",
    "# Trees - woodland, hedgerows, groups of trees, standalone trees\n",
    "# Crops - contour ploughing/cropland, grain (wheat) crops, row (potatoes, turnips) crops\n",
    "# Waterway \n",
    "# Standing water\n",
    "# Vehicle Large - large vehicle (e.g. lorry, truck,bus), logistics vehicle\n",
    "# Vehicle Small - small vehicle (car, van), motorbike\n",
    "\n",
    "for IM_ID in os.listdir('M/train/'):\n",
    "    \n",
    "    msk = predict_id(IM_ID[:-4], model, trs)\n",
    "    img = M(IM_ID[:-4], mode='train')\n",
    "    \n",
    "    fig, axes = plt.subplots(ncols=8, figsize=(100, 100))\n",
    "    ax = axes.ravel()\n",
    "\n",
    "    ax[0].imshow(img[:, :, 5])\n",
    "    ax[0].set_title('msk') \n",
    "    ax[0].axis('off')\n",
    "\n",
    "    ax[1].imshow(msk[0], cmap=plt.get_cmap('gray'))\n",
    "    ax[1].set_title('Misc. Manmade structures') \n",
    "    ax[1].axis('off')\n",
    "\n",
    "    ax[2].imshow(msk[1], cmap=plt.get_cmap('gray'))\n",
    "    ax[2].set_title('Road')    \n",
    "    ax[2].axis('off')\n",
    "\n",
    "    ax[3].imshow(msk[2], cmap=plt.get_cmap('gray'))\n",
    "    ax[3].set_title('Track')\n",
    "    ax[3].axis('off')\n",
    "\n",
    "    ax[4].imshow(msk[3], cmap=plt.get_cmap('gray'))\n",
    "    ax[4].set_title('Crops') \n",
    "    ax[4].axis('off')\n",
    "\n",
    "    ax[5].imshow(msk[4], cmap=plt.get_cmap('gray'))\n",
    "    ax[5].set_title('Standing water')  \n",
    "    ax[5].axis('off')\n",
    "\n",
    "    ax[6].imshow(msk[5], cmap=plt.get_cmap('gray'))\n",
    "    ax[6].set_title('Vehicle Large')\n",
    "    ax[6].axis('off')\n",
    "\n",
    "    ax[7].imshow(msk[6], cmap=plt.get_cmap('gray'))\n",
    "    ax[7].set_title('Vehicle Small')\n",
    "    ax[7].axis('off')\n",
    "    plt.tight_layout()\n",
    "    plt.show() "
   ]
  },
  {
   "cell_type": "code",
   "execution_count": null,
   "metadata": {
    "collapsed": true
   },
   "outputs": [],
   "source": [
    "for IM_ID in os.listdir('M/test/'):\n",
    "    \n",
    "\n",
    "    msk = predict_id(IM_ID[:-4], model, trs, mode='test')\n",
    "    img = M(IM_ID[:-4], mode='test')\n",
    "    \n",
    "    fig, axes = plt.subplots(ncols=8, figsize=(100, 100))\n",
    "    ax = axes.ravel()\n",
    "\n",
    "    # sigmoid \n",
    "    ax[0].imshow(img[:, :, 5])\n",
    "    ax[0].set_title('msk') \n",
    "    ax[0].axis('off')\n",
    "\n",
    "    ax[1].imshow(msk[0], cmap=plt.get_cmap('gray'))\n",
    "    ax[1].set_title('Misc. Manmade structures') \n",
    "    ax[1].axis('off')\n",
    "\n",
    "    ax[2].imshow(msk[1], cmap=plt.get_cmap('gray'))\n",
    "    ax[2].set_title('Road')    \n",
    "    ax[2].axis('off')\n",
    "\n",
    "    ax[3].imshow(msk[2], cmap=plt.get_cmap('gray'))\n",
    "    ax[3].set_title('Track')\n",
    "    ax[3].axis('off')\n",
    "\n",
    "    ax[4].imshow(msk[3], cmap=plt.get_cmap('gray'))\n",
    "    ax[4].set_title('Crops') \n",
    "    ax[4].axis('off')\n",
    "\n",
    "    ax[5].imshow(msk[4], cmap=plt.get_cmap('gray'))\n",
    "    ax[5].set_title('Standing water')  \n",
    "    ax[5].axis('off')\n",
    "\n",
    "    ax[6].imshow(msk[5], cmap=plt.get_cmap('gray'))\n",
    "    ax[6].set_title('Vehicle Large')\n",
    "    ax[6].axis('off')\n",
    "\n",
    "    ax[7].imshow(msk[6], cmap=plt.get_cmap('gray'))\n",
    "    ax[7].set_title('Vehicle Small')\n",
    "    ax[7].axis('off')\n",
    "    plt.tight_layout()\n",
    "    plt.show() "
   ]
  },
  {
   "cell_type": "code",
   "execution_count": null,
   "metadata": {
    "collapsed": true
   },
   "outputs": [],
   "source": []
  }
 ],
 "metadata": {
  "kernelspec": {
   "display_name": "Python 2",
   "language": "python",
   "name": "python2"
  },
  "language_info": {
   "codemirror_mode": {
    "name": "ipython",
    "version": 2
   },
   "file_extension": ".py",
   "mimetype": "text/x-python",
   "name": "python",
   "nbconvert_exporter": "python",
   "pygments_lexer": "ipython2",
   "version": "2.7.12"
  }
 },
 "nbformat": 4,
 "nbformat_minor": 1
}
